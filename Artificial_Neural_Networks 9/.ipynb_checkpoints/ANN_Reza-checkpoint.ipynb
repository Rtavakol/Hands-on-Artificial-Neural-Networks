{
 "cells": [
  {
   "cell_type": "code",
   "execution_count": 1,
   "metadata": {},
   "outputs": [],
   "source": [
    "import numpy as np\n",
    "import matplotlib.pyplot as plt\n",
    "import pandas as pd"
   ]
  },
  {
   "cell_type": "code",
   "execution_count": 2,
   "metadata": {},
   "outputs": [],
   "source": [
    "df = pd.read_csv('Churn_Modelling.csv')"
   ]
  },
  {
   "cell_type": "code",
   "execution_count": 3,
   "metadata": {},
   "outputs": [
    {
     "data": {
      "text/html": [
       "<div>\n",
       "<style scoped>\n",
       "    .dataframe tbody tr th:only-of-type {\n",
       "        vertical-align: middle;\n",
       "    }\n",
       "\n",
       "    .dataframe tbody tr th {\n",
       "        vertical-align: top;\n",
       "    }\n",
       "\n",
       "    .dataframe thead th {\n",
       "        text-align: right;\n",
       "    }\n",
       "</style>\n",
       "<table border=\"1\" class=\"dataframe\">\n",
       "  <thead>\n",
       "    <tr style=\"text-align: right;\">\n",
       "      <th></th>\n",
       "      <th>RowNumber</th>\n",
       "      <th>CustomerId</th>\n",
       "      <th>Surname</th>\n",
       "      <th>CreditScore</th>\n",
       "      <th>Geography</th>\n",
       "      <th>Gender</th>\n",
       "      <th>Age</th>\n",
       "      <th>Tenure</th>\n",
       "      <th>Balance</th>\n",
       "      <th>NumOfProducts</th>\n",
       "      <th>HasCrCard</th>\n",
       "      <th>IsActiveMember</th>\n",
       "      <th>EstimatedSalary</th>\n",
       "      <th>Exited</th>\n",
       "    </tr>\n",
       "  </thead>\n",
       "  <tbody>\n",
       "    <tr>\n",
       "      <th>0</th>\n",
       "      <td>1</td>\n",
       "      <td>15634602</td>\n",
       "      <td>Hargrave</td>\n",
       "      <td>619</td>\n",
       "      <td>France</td>\n",
       "      <td>Female</td>\n",
       "      <td>42</td>\n",
       "      <td>2</td>\n",
       "      <td>0.00</td>\n",
       "      <td>1</td>\n",
       "      <td>1</td>\n",
       "      <td>1</td>\n",
       "      <td>101348.88</td>\n",
       "      <td>1</td>\n",
       "    </tr>\n",
       "    <tr>\n",
       "      <th>1</th>\n",
       "      <td>2</td>\n",
       "      <td>15647311</td>\n",
       "      <td>Hill</td>\n",
       "      <td>608</td>\n",
       "      <td>Spain</td>\n",
       "      <td>Female</td>\n",
       "      <td>41</td>\n",
       "      <td>1</td>\n",
       "      <td>83807.86</td>\n",
       "      <td>1</td>\n",
       "      <td>0</td>\n",
       "      <td>1</td>\n",
       "      <td>112542.58</td>\n",
       "      <td>0</td>\n",
       "    </tr>\n",
       "    <tr>\n",
       "      <th>2</th>\n",
       "      <td>3</td>\n",
       "      <td>15619304</td>\n",
       "      <td>Onio</td>\n",
       "      <td>502</td>\n",
       "      <td>France</td>\n",
       "      <td>Female</td>\n",
       "      <td>42</td>\n",
       "      <td>8</td>\n",
       "      <td>159660.80</td>\n",
       "      <td>3</td>\n",
       "      <td>1</td>\n",
       "      <td>0</td>\n",
       "      <td>113931.57</td>\n",
       "      <td>1</td>\n",
       "    </tr>\n",
       "    <tr>\n",
       "      <th>3</th>\n",
       "      <td>4</td>\n",
       "      <td>15701354</td>\n",
       "      <td>Boni</td>\n",
       "      <td>699</td>\n",
       "      <td>France</td>\n",
       "      <td>Female</td>\n",
       "      <td>39</td>\n",
       "      <td>1</td>\n",
       "      <td>0.00</td>\n",
       "      <td>2</td>\n",
       "      <td>0</td>\n",
       "      <td>0</td>\n",
       "      <td>93826.63</td>\n",
       "      <td>0</td>\n",
       "    </tr>\n",
       "    <tr>\n",
       "      <th>4</th>\n",
       "      <td>5</td>\n",
       "      <td>15737888</td>\n",
       "      <td>Mitchell</td>\n",
       "      <td>850</td>\n",
       "      <td>Spain</td>\n",
       "      <td>Female</td>\n",
       "      <td>43</td>\n",
       "      <td>2</td>\n",
       "      <td>125510.82</td>\n",
       "      <td>1</td>\n",
       "      <td>1</td>\n",
       "      <td>1</td>\n",
       "      <td>79084.10</td>\n",
       "      <td>0</td>\n",
       "    </tr>\n",
       "  </tbody>\n",
       "</table>\n",
       "</div>"
      ],
      "text/plain": [
       "   RowNumber  CustomerId   Surname  CreditScore Geography  Gender  Age  \\\n",
       "0          1    15634602  Hargrave          619    France  Female   42   \n",
       "1          2    15647311      Hill          608     Spain  Female   41   \n",
       "2          3    15619304      Onio          502    France  Female   42   \n",
       "3          4    15701354      Boni          699    France  Female   39   \n",
       "4          5    15737888  Mitchell          850     Spain  Female   43   \n",
       "\n",
       "   Tenure    Balance  NumOfProducts  HasCrCard  IsActiveMember  \\\n",
       "0       2       0.00              1          1               1   \n",
       "1       1   83807.86              1          0               1   \n",
       "2       8  159660.80              3          1               0   \n",
       "3       1       0.00              2          0               0   \n",
       "4       2  125510.82              1          1               1   \n",
       "\n",
       "   EstimatedSalary  Exited  \n",
       "0        101348.88       1  \n",
       "1        112542.58       0  \n",
       "2        113931.57       1  \n",
       "3         93826.63       0  \n",
       "4         79084.10       0  "
      ]
     },
     "execution_count": 3,
     "metadata": {},
     "output_type": "execute_result"
    }
   ],
   "source": [
    "df.head()"
   ]
  },
  {
   "cell_type": "code",
   "execution_count": 4,
   "metadata": {},
   "outputs": [
    {
     "data": {
      "text/plain": [
       "array([[619, 'France', 'Female', ..., 1, 1, 101348.88],\n",
       "       [608, 'Spain', 'Female', ..., 0, 1, 112542.58],\n",
       "       [502, 'France', 'Female', ..., 1, 0, 113931.57],\n",
       "       ...,\n",
       "       [709, 'France', 'Female', ..., 0, 1, 42085.58],\n",
       "       [772, 'Germany', 'Male', ..., 1, 0, 92888.52],\n",
       "       [792, 'France', 'Female', ..., 1, 0, 38190.78]], dtype=object)"
      ]
     },
     "execution_count": 4,
     "metadata": {},
     "output_type": "execute_result"
    }
   ],
   "source": [
    "x = df.iloc[:, 3:13].values\n",
    "x"
   ]
  },
  {
   "cell_type": "code",
   "execution_count": 5,
   "metadata": {},
   "outputs": [
    {
     "data": {
      "text/plain": [
       "array([1, 0, 1, ..., 1, 1, 0], dtype=int64)"
      ]
     },
     "execution_count": 5,
     "metadata": {},
     "output_type": "execute_result"
    }
   ],
   "source": [
    "y = df.iloc[:, 13].values\n",
    "y"
   ]
  },
  {
   "cell_type": "code",
   "execution_count": 6,
   "metadata": {},
   "outputs": [],
   "source": [
    "from sklearn.preprocessing import LabelEncoder, OneHotEncoder\n",
    "from sklearn.compose import ColumnTransformer\n",
    "labelencoder_X_2 = LabelEncoder()"
   ]
  },
  {
   "cell_type": "code",
   "execution_count": 8,
   "metadata": {},
   "outputs": [
    {
     "data": {
      "text/plain": [
       "array([[619, 'France', 0, 42, 2, 0.0, 1, 1, 1, 101348.88],\n",
       "       [608, 'Spain', 0, 41, 1, 83807.86, 1, 0, 1, 112542.58],\n",
       "       [502, 'France', 0, 42, 8, 159660.8, 3, 1, 0, 113931.57],\n",
       "       [699, 'France', 0, 39, 1, 0.0, 2, 0, 0, 93826.63],\n",
       "       [850, 'Spain', 0, 43, 2, 125510.82, 1, 1, 1, 79084.1],\n",
       "       [645, 'Spain', 1, 44, 8, 113755.78, 2, 1, 0, 149756.71],\n",
       "       [822, 'France', 1, 50, 7, 0.0, 2, 1, 1, 10062.8]], dtype=object)"
      ]
     },
     "execution_count": 8,
     "metadata": {},
     "output_type": "execute_result"
    }
   ],
   "source": [
    "x[:, 2] = labelencoder_X_2.fit_transform(x[:, 2])\n",
    "x[:7]"
   ]
  },
  {
   "cell_type": "code",
   "execution_count": 9,
   "metadata": {},
   "outputs": [],
   "source": [
    "columnTransformer = ColumnTransformer([('encoder', OneHotEncoder(), [1])], remainder='passthrough')\n",
    "x_enc_hot = np.array(columnTransformer.fit_transform(x), dtype = np.str)\n",
    "x_enc_hot = x_enc_hot[:, 1:]"
   ]
  },
  {
   "cell_type": "code",
   "execution_count": 10,
   "metadata": {},
   "outputs": [
    {
     "data": {
      "text/plain": [
       "array([['0.0', '0.0', '619', '0', '42', '2', '0.0', '1', '1', '1',\n",
       "        '101348.88'],\n",
       "       ['0.0', '1.0', '608', '0', '41', '1', '83807.86', '1', '0', '1',\n",
       "        '112542.58'],\n",
       "       ['0.0', '0.0', '502', '0', '42', '8', '159660.8', '3', '1', '0',\n",
       "        '113931.57'],\n",
       "       ['0.0', '0.0', '699', '0', '39', '1', '0.0', '2', '0', '0',\n",
       "        '93826.63'],\n",
       "       ['0.0', '1.0', '850', '0', '43', '2', '125510.82', '1', '1', '1',\n",
       "        '79084.1'],\n",
       "       ['0.0', '1.0', '645', '1', '44', '8', '113755.78', '2', '1', '0',\n",
       "        '149756.71'],\n",
       "       ['0.0', '0.0', '822', '1', '50', '7', '0.0', '2', '1', '1',\n",
       "        '10062.8']], dtype='<U9')"
      ]
     },
     "execution_count": 10,
     "metadata": {},
     "output_type": "execute_result"
    }
   ],
   "source": [
    "x_enc_hot[:7]"
   ]
  },
  {
   "cell_type": "code",
   "execution_count": 11,
   "metadata": {},
   "outputs": [],
   "source": [
    "from sklearn.model_selection import train_test_split\n",
    "x_train, x_test, y_train, y_test  = train_test_split(x_enc_hot, y, test_size = 0.2, random_state = 0)"
   ]
  },
  {
   "cell_type": "code",
   "execution_count": 12,
   "metadata": {},
   "outputs": [],
   "source": [
    "# Feature Scaling\n",
    "from sklearn.preprocessing import StandardScaler\n",
    "sc = StandardScaler()\n",
    "x_train_sc = sc.fit_transform(x_train)\n",
    "x_test_sc = sc.transform(x_test)"
   ]
  },
  {
   "cell_type": "code",
   "execution_count": 13,
   "metadata": {},
   "outputs": [],
   "source": [
    "import keras\n",
    "from keras.models import Sequential\n",
    "from keras.layers import Dense"
   ]
  },
  {
   "cell_type": "code",
   "execution_count": 17,
   "metadata": {
    "scrolled": true
   },
   "outputs": [
    {
     "name": "stdout",
     "output_type": "stream",
     "text": [
      "WARNING:tensorflow:From C:\\Users\\u0125384\\Anaconda3\\lib\\site-packages\\tensorflow\\python\\ops\\math_ops.py:3066: to_int32 (from tensorflow.python.ops.math_ops) is deprecated and will be removed in a future version.\n",
      "Instructions for updating:\n",
      "Use tf.cast instead.\n",
      "Epoch 1/100\n",
      "8000/8000 [==============================] - 3s 330us/step - loss: 0.5049 - accuracy: 0.7951\n",
      "Epoch 2/100\n",
      "8000/8000 [==============================] - 2s 273us/step - loss: 0.4156 - accuracy: 0.8211\n",
      "Epoch 3/100\n",
      "8000/8000 [==============================] - 2s 277us/step - loss: 0.4034 - accuracy: 0.8245\n",
      "Epoch 4/100\n",
      "8000/8000 [==============================] - 2s 272us/step - loss: 0.3948 - accuracy: 0.8265\n",
      "Epoch 5/100\n",
      "8000/8000 [==============================] - 2s 271us/step - loss: 0.3873 - accuracy: 0.8295\n",
      "Epoch 6/100\n",
      "8000/8000 [==============================] - 1s 128us/step - loss: 0.3812 - accuracy: 0.8311\n",
      "Epoch 7/100\n",
      "8000/8000 [==============================] - 1s 142us/step - loss: 0.3763 - accuracy: 0.8320\n",
      "Epoch 8/100\n",
      "8000/8000 [==============================] - 2s 190us/step - loss: 0.3731 - accuracy: 0.8406\n",
      "Epoch 9/100\n",
      "8000/8000 [==============================] - 2s 207us/step - loss: 0.3700 - accuracy: 0.8456\n",
      "Epoch 10/100\n",
      "8000/8000 [==============================] - 2s 222us/step - loss: 0.3664 - accuracy: 0.8497\n",
      "Epoch 11/100\n",
      "8000/8000 [==============================] - 2s 220us/step - loss: 0.3644 - accuracy: 0.8489\n",
      "Epoch 12/100\n",
      "8000/8000 [==============================] - 1s 145us/step - loss: 0.3630 - accuracy: 0.8524\n",
      "Epoch 13/100\n",
      "8000/8000 [==============================] - 1s 125us/step - loss: 0.3616 - accuracy: 0.8503\n",
      "Epoch 14/100\n",
      "8000/8000 [==============================] - 1s 138us/step - loss: 0.3592 - accuracy: 0.8530\n",
      "Epoch 15/100\n",
      "8000/8000 [==============================] - 2s 202us/step - loss: 0.3579 - accuracy: 0.8535\n",
      "Epoch 16/100\n",
      "8000/8000 [==============================] - 2s 221us/step - loss: 0.3571 - accuracy: 0.8534\n",
      "Epoch 17/100\n",
      "8000/8000 [==============================] - 2s 192us/step - loss: 0.3567 - accuracy: 0.8544\n",
      "Epoch 18/100\n",
      "8000/8000 [==============================] - 1s 176us/step - loss: 0.3547 - accuracy: 0.8543\n",
      "Epoch 19/100\n",
      "8000/8000 [==============================] - 2s 212us/step - loss: 0.3546 - accuracy: 0.8556\n",
      "Epoch 20/100\n",
      "8000/8000 [==============================] - 2s 221us/step - loss: 0.3531 - accuracy: 0.8536\n",
      "Epoch 21/100\n",
      "8000/8000 [==============================] - 2s 222us/step - loss: 0.3521 - accuracy: 0.8570\n",
      "Epoch 22/100\n",
      "8000/8000 [==============================] - 2s 220us/step - loss: 0.3523 - accuracy: 0.8551\n",
      "Epoch 23/100\n",
      "8000/8000 [==============================] - 2s 224us/step - loss: 0.3513 - accuracy: 0.8565\n",
      "Epoch 24/100\n",
      "8000/8000 [==============================] - 2s 200us/step - loss: 0.3511 - accuracy: 0.8539\n",
      "Epoch 25/100\n",
      "8000/8000 [==============================] - 1s 165us/step - loss: 0.3497 - accuracy: 0.8565\n",
      "Epoch 26/100\n",
      "8000/8000 [==============================] - 2s 188us/step - loss: 0.3494 - accuracy: 0.8575\n",
      "Epoch 27/100\n",
      "8000/8000 [==============================] - 2s 209us/step - loss: 0.3487 - accuracy: 0.8590\n",
      "Epoch 28/100\n",
      "8000/8000 [==============================] - 1s 142us/step - loss: 0.3488 - accuracy: 0.8595\n",
      "Epoch 29/100\n",
      "8000/8000 [==============================] - 2s 200us/step - loss: 0.3479 - accuracy: 0.8559\n",
      "Epoch 30/100\n",
      "8000/8000 [==============================] - 2s 215us/step - loss: 0.3473 - accuracy: 0.8593\n",
      "Epoch 31/100\n",
      "8000/8000 [==============================] - 1s 100us/step - loss: 0.3477 - accuracy: 0.8580\n",
      "Epoch 32/100\n",
      "8000/8000 [==============================] - 1s 102us/step - loss: 0.3467 - accuracy: 0.8590\n",
      "Epoch 33/100\n",
      "8000/8000 [==============================] - 1s 175us/step - loss: 0.3461 - accuracy: 0.8604\n",
      "Epoch 34/100\n",
      "8000/8000 [==============================] - 1s 147us/step - loss: 0.3464 - accuracy: 0.8561\n",
      "Epoch 35/100\n",
      "8000/8000 [==============================] - 1s 147us/step - loss: 0.3464 - accuracy: 0.8551\n",
      "Epoch 36/100\n",
      "8000/8000 [==============================] - 1s 142us/step - loss: 0.3458 - accuracy: 0.8609\n",
      "Epoch 37/100\n",
      "8000/8000 [==============================] - 1s 186us/step - loss: 0.3453 - accuracy: 0.8610\n",
      "Epoch 38/100\n",
      "8000/8000 [==============================] - 2s 190us/step - loss: 0.3450 - accuracy: 0.8577\n",
      "Epoch 39/100\n",
      "8000/8000 [==============================] - 2s 202us/step - loss: 0.3448 - accuracy: 0.8569\n",
      "Epoch 40/100\n",
      "8000/8000 [==============================] - 1s 170us/step - loss: 0.3442 - accuracy: 0.8587\n",
      "Epoch 41/100\n",
      "8000/8000 [==============================] - 2s 194us/step - loss: 0.3440 - accuracy: 0.8581\n",
      "Epoch 42/100\n",
      "8000/8000 [==============================] - 1s 177us/step - loss: 0.3433 - accuracy: 0.8599\n",
      "Epoch 43/100\n",
      "8000/8000 [==============================] - 2s 194us/step - loss: 0.3433 - accuracy: 0.8593\n",
      "Epoch 44/100\n",
      "8000/8000 [==============================] - 2s 205us/step - loss: 0.3431 - accuracy: 0.8586\n",
      "Epoch 45/100\n",
      "8000/8000 [==============================] - 1s 159us/step - loss: 0.3431 - accuracy: 0.8583\n",
      "Epoch 46/100\n",
      "8000/8000 [==============================] - 1s 151us/step - loss: 0.3431 - accuracy: 0.8605\n",
      "Epoch 47/100\n",
      "8000/8000 [==============================] - 1s 180us/step - loss: 0.3421 - accuracy: 0.8591\n",
      "Epoch 48/100\n",
      "8000/8000 [==============================] - 1s 154us/step - loss: 0.3421 - accuracy: 0.8611\n",
      "Epoch 49/100\n",
      "8000/8000 [==============================] - 1s 143us/step - loss: 0.3424 - accuracy: 0.8608\n",
      "Epoch 50/100\n",
      "8000/8000 [==============================] - 2s 198us/step - loss: 0.3423 - accuracy: 0.8601\n",
      "Epoch 51/100\n",
      "8000/8000 [==============================] - 2s 209us/step - loss: 0.3413 - accuracy: 0.8605\n",
      "Epoch 52/100\n",
      "8000/8000 [==============================] - 2s 206us/step - loss: 0.3413 - accuracy: 0.8606\n",
      "Epoch 53/100\n",
      "8000/8000 [==============================] - 2s 190us/step - loss: 0.3426 - accuracy: 0.8604\n",
      "Epoch 54/100\n",
      "8000/8000 [==============================] - 1s 132us/step - loss: 0.3413 - accuracy: 0.8597\n",
      "Epoch 55/100\n",
      "8000/8000 [==============================] - 1s 157us/step - loss: 0.3415 - accuracy: 0.8594\n",
      "Epoch 56/100\n",
      "8000/8000 [==============================] - 1s 154us/step - loss: 0.3416 - accuracy: 0.8616\n",
      "Epoch 57/100\n",
      "8000/8000 [==============================] - 1s 126us/step - loss: 0.3414 - accuracy: 0.8601\n",
      "Epoch 58/100\n",
      "8000/8000 [==============================] - 1s 138us/step - loss: 0.3406 - accuracy: 0.8606\n",
      "Epoch 59/100\n",
      "8000/8000 [==============================] - 1s 130us/step - loss: 0.3408 - accuracy: 0.8604\n",
      "Epoch 60/100\n",
      "8000/8000 [==============================] - 1s 140us/step - loss: 0.3404 - accuracy: 0.8586\n",
      "Epoch 61/100\n",
      "8000/8000 [==============================] - 1s 136us/step - loss: 0.3407 - accuracy: 0.8608\n",
      "Epoch 62/100\n",
      "8000/8000 [==============================] - 1s 153us/step - loss: 0.3404 - accuracy: 0.8597\n",
      "Epoch 63/100\n",
      "8000/8000 [==============================] - 1s 147us/step - loss: 0.3402 - accuracy: 0.8595\n",
      "Epoch 64/100\n",
      "8000/8000 [==============================] - 1s 152us/step - loss: 0.3408 - accuracy: 0.8605\n",
      "Epoch 65/100\n",
      "8000/8000 [==============================] - 1s 160us/step - loss: 0.3395 - accuracy: 0.8620\n",
      "Epoch 66/100\n",
      "8000/8000 [==============================] - 1s 144us/step - loss: 0.3398 - accuracy: 0.8608\n",
      "Epoch 67/100\n",
      "8000/8000 [==============================] - 1s 127us/step - loss: 0.3402 - accuracy: 0.8618\n",
      "Epoch 68/100\n",
      "8000/8000 [==============================] - 1s 126us/step - loss: 0.3391 - accuracy: 0.8616\n",
      "Epoch 69/100\n",
      "8000/8000 [==============================] - 2s 192us/step - loss: 0.3402 - accuracy: 0.8618\n",
      "Epoch 70/100\n",
      "8000/8000 [==============================] - 2s 188us/step - loss: 0.3402 - accuracy: 0.8599\n",
      "Epoch 71/100\n",
      "8000/8000 [==============================] - 2s 188us/step - loss: 0.3400 - accuracy: 0.8615\n",
      "Epoch 72/100\n",
      "8000/8000 [==============================] - 1s 162us/step - loss: 0.3400 - accuracy: 0.8609\n",
      "Epoch 73/100\n",
      "8000/8000 [==============================] - 1s 152us/step - loss: 0.3400 - accuracy: 0.8626\n",
      "Epoch 74/100\n",
      "8000/8000 [==============================] - 1s 129us/step - loss: 0.3403 - accuracy: 0.8619\n",
      "Epoch 75/100\n"
     ]
    },
    {
     "name": "stdout",
     "output_type": "stream",
     "text": [
      "8000/8000 [==============================] - 1s 186us/step - loss: 0.3394 - accuracy: 0.8605\n",
      "Epoch 76/100\n",
      "8000/8000 [==============================] - 1s 170us/step - loss: 0.3392 - accuracy: 0.8618\n",
      "Epoch 77/100\n",
      "8000/8000 [==============================] - 1s 99us/step - loss: 0.3389 - accuracy: 0.8614\n",
      "Epoch 78/100\n",
      "8000/8000 [==============================] - 1s 106us/step - loss: 0.3395 - accuracy: 0.8585\n",
      "Epoch 79/100\n",
      "8000/8000 [==============================] - 1s 157us/step - loss: 0.3394 - accuracy: 0.8615\n",
      "Epoch 80/100\n",
      "8000/8000 [==============================] - 1s 165us/step - loss: 0.3386 - accuracy: 0.8614\n",
      "Epoch 81/100\n",
      "8000/8000 [==============================] - 2s 200us/step - loss: 0.3389 - accuracy: 0.8619\n",
      "Epoch 82/100\n",
      "8000/8000 [==============================] - 2s 221us/step - loss: 0.3395 - accuracy: 0.8627\n",
      "Epoch 83/100\n",
      "8000/8000 [==============================] - 2s 232us/step - loss: 0.3388 - accuracy: 0.8624\n",
      "Epoch 84/100\n",
      "8000/8000 [==============================] - 2s 206us/step - loss: 0.3390 - accuracy: 0.8602\n",
      "Epoch 85/100\n",
      "8000/8000 [==============================] - 1s 128us/step - loss: 0.3396 - accuracy: 0.8624\n",
      "Epoch 86/100\n",
      "8000/8000 [==============================] - 1s 100us/step - loss: 0.3391 - accuracy: 0.8591\n",
      "Epoch 87/100\n",
      "8000/8000 [==============================] - 2s 194us/step - loss: 0.3388 - accuracy: 0.8621\n",
      "Epoch 88/100\n",
      "8000/8000 [==============================] - 1s 154us/step - loss: 0.3385 - accuracy: 0.8615\n",
      "Epoch 89/100\n",
      "8000/8000 [==============================] - 1s 136us/step - loss: 0.3391 - accuracy: 0.8629\n",
      "Epoch 90/100\n",
      "8000/8000 [==============================] - 1s 118us/step - loss: 0.3376 - accuracy: 0.8614\n",
      "Epoch 91/100\n",
      "8000/8000 [==============================] - 2s 203us/step - loss: 0.3381 - accuracy: 0.8620\n",
      "Epoch 92/100\n",
      "8000/8000 [==============================] - 1s 171us/step - loss: 0.3380 - accuracy: 0.8590\n",
      "Epoch 93/100\n",
      "8000/8000 [==============================] - 1s 120us/step - loss: 0.3386 - accuracy: 0.8618\n",
      "Epoch 94/100\n",
      "8000/8000 [==============================] - 1s 177us/step - loss: 0.3382 - accuracy: 0.8610\n",
      "Epoch 95/100\n",
      "8000/8000 [==============================] - 1s 142us/step - loss: 0.3386 - accuracy: 0.8610\n",
      "Epoch 96/100\n",
      "8000/8000 [==============================] - 1s 140us/step - loss: 0.3384 - accuracy: 0.8626\n",
      "Epoch 97/100\n",
      "8000/8000 [==============================] - 1s 127us/step - loss: 0.3378 - accuracy: 0.8611\n",
      "Epoch 98/100\n",
      "8000/8000 [==============================] - 1s 129us/step - loss: 0.3375 - accuracy: 0.8597\n",
      "Epoch 99/100\n",
      "8000/8000 [==============================] - 2s 201us/step - loss: 0.3379 - accuracy: 0.8614\n",
      "Epoch 100/100\n",
      "8000/8000 [==============================] - 1s 170us/step - loss: 0.3375 - accuracy: 0.8630\n"
     ]
    },
    {
     "data": {
      "text/plain": [
       "<keras.callbacks.callbacks.History at 0x1d9e368fd48>"
      ]
     },
     "execution_count": 17,
     "metadata": {},
     "output_type": "execute_result"
    }
   ],
   "source": [
    "# Initialising ANN\n",
    "classifier = Sequential()\n",
    "\n",
    "#Adding the input and the first hidden layer\n",
    "# if you have no idea of units: (total input + total out put)/2t, here (11 + 1)/2\n",
    "classifier.add(Dense(units = 6, kernel_initializer = 'uniform', activation = 'relu', input_dim = 11))\n",
    "\n",
    "# Adding the 2nd hidden layer\n",
    "classifier.add(Dense(units = 6, kernel_initializer = 'uniform', activation = 'relu'))\n",
    "\n",
    "\n",
    "# Adding the output layer\n",
    "classifier.add(Dense(units = 1, kernel_initializer = 'uniform', activation = 'sigmoid'))\n",
    "\n",
    "\n",
    "# Compiling ANN\n",
    "classifier.compile(optimizer = 'adam', loss = 'binary_crossentropy', metrics = ['accuracy'])\n",
    "\n",
    "# Fitting ANN to training dataset\n",
    "classifier.fit(x_train_sc, y_train, batch_size = 10, epochs = 100)"
   ]
  },
  {
   "cell_type": "code",
   "execution_count": 19,
   "metadata": {},
   "outputs": [
    {
     "data": {
      "text/plain": [
       "array([[False],\n",
       "       [False],\n",
       "       [False],\n",
       "       ...,\n",
       "       [False],\n",
       "       [False],\n",
       "       [False]])"
      ]
     },
     "execution_count": 19,
     "metadata": {},
     "output_type": "execute_result"
    }
   ],
   "source": [
    "y_prediction = classifier.predict(x_test_sc)\n",
    "y_prediction = (y_prediction> 0.5)\n",
    "y_prediction"
   ]
  },
  {
   "cell_type": "code",
   "execution_count": 21,
   "metadata": {},
   "outputs": [
    {
     "data": {
      "text/plain": [
       "array([[1505,   90],\n",
       "       [ 188,  217]], dtype=int64)"
      ]
     },
     "execution_count": 21,
     "metadata": {},
     "output_type": "execute_result"
    }
   ],
   "source": [
    "from sklearn.metrics import confusion_matrix\n",
    "cm = confusion_matrix(y_test, y_prediction)\n",
    "cm"
   ]
  },
  {
   "cell_type": "markdown",
   "metadata": {},
   "source": [
    "# Prediction for a single datapoint"
   ]
  },
  {
   "cell_type": "code",
   "execution_count": 32,
   "metadata": {},
   "outputs": [
    {
     "data": {
      "text/plain": [
       "array([[0.03886535]], dtype=float32)"
      ]
     },
     "execution_count": 32,
     "metadata": {},
     "output_type": "execute_result"
    }
   ],
   "source": [
    "# Predicting a single new observation\n",
    "\"\"\"Predict if the customer with the following informations will leave the bank:\n",
    "Geography: France\n",
    "Credit Score: 600\n",
    "Gender: Male\n",
    "Age: 40\n",
    "Tenure: 3\n",
    "Balance: 60000\n",
    "Number of Products: 2\n",
    "Has Credit Card: Yes\n",
    "Is Active Member: Yes\n",
    "Estimated Salary: 50000\"\"\"\n",
    "new_prediction = classifier.predict(sc.transform(np.array([[0.0, 0, 600, 1, 40, 3, 60000, 2, 1, 1, 50000]])))\n",
    "new_prediction"
   ]
  },
  {
   "cell_type": "code",
   "execution_count": 33,
   "metadata": {},
   "outputs": [
    {
     "data": {
      "text/plain": [
       "array([[False]])"
      ]
     },
     "execution_count": 33,
     "metadata": {},
     "output_type": "execute_result"
    }
   ],
   "source": [
    "(new_prediction > 0.5)"
   ]
  },
  {
   "cell_type": "markdown",
   "metadata": {},
   "source": [
    "# Applying Cross Validation"
   ]
  },
  {
   "cell_type": "code",
   "execution_count": 34,
   "metadata": {},
   "outputs": [],
   "source": [
    "# Applying Cross validation\n",
    "import keras\n",
    "from keras.models import Sequential\n",
    "from keras.layers import Dense\n",
    "from keras.wrappers.scikit_learn import KerasClassifier\n",
    "from sklearn.model_selection import cross_val_score"
   ]
  },
  {
   "cell_type": "code",
   "execution_count": 37,
   "metadata": {},
   "outputs": [],
   "source": [
    "def build_classifier():\n",
    "    classifier = Sequential()\n",
    "#Adding the input and the first hidden layer\n",
    "# if you have no idea of units: (total input + total out put)/2t, here (11 + 1)/2\n",
    "    classifier.add(Dense(units = 6, kernel_initializer = 'uniform', activation = 'relu', input_dim = 11))\n",
    "# Adding the 2nd hidden layer\n",
    "    classifier.add(Dense(units = 6, kernel_initializer = 'uniform', activation = 'relu'))\n",
    "# Adding the output layer\n",
    "    classifier.add(Dense(units = 1, kernel_initializer = 'uniform', activation = 'sigmoid'))\n",
    "# Compiling ANN\n",
    "    classifier.compile(optimizer = 'adam', loss = 'binary_crossentropy', metrics = ['accuracy'])\n",
    "    return classifier"
   ]
  },
  {
   "cell_type": "code",
   "execution_count": 39,
   "metadata": {},
   "outputs": [],
   "source": [
    "classifier = KerasClassifier(build_fn = build_classifier, batch_size = 10, epochs = 100)\n",
    "accuracies = cross_val_score(estimator=classifier, X = x_train_sc, y = y_train, cv = 10, n_jobs = -1)"
   ]
  },
  {
   "cell_type": "code",
   "execution_count": 43,
   "metadata": {},
   "outputs": [
    {
     "data": {
      "text/plain": [
       "array([0.84249997, 0.84125   , 0.83125001, 0.82875001, 0.85250002,\n",
       "       0.84125   , 0.86000001, 0.85750002, 0.82625002, 0.85000002])"
      ]
     },
     "execution_count": 43,
     "metadata": {},
     "output_type": "execute_result"
    }
   ],
   "source": [
    "accuracies"
   ]
  },
  {
   "cell_type": "code",
   "execution_count": 44,
   "metadata": {},
   "outputs": [
    {
     "data": {
      "text/plain": [
       "0.8431250095367432"
      ]
     },
     "execution_count": 44,
     "metadata": {},
     "output_type": "execute_result"
    }
   ],
   "source": [
    "accuracies.mean()"
   ]
  },
  {
   "cell_type": "code",
   "execution_count": 45,
   "metadata": {},
   "outputs": [
    {
     "data": {
      "text/plain": [
       "0.01125347369925108"
      ]
     },
     "execution_count": 45,
     "metadata": {},
     "output_type": "execute_result"
    }
   ],
   "source": [
    "accuracies.std()"
   ]
  },
  {
   "cell_type": "markdown",
   "metadata": {},
   "source": [
    "# Dropout to avoid overfitting (if we have over fitting)"
   ]
  },
  {
   "cell_type": "code",
   "execution_count": 46,
   "metadata": {},
   "outputs": [],
   "source": [
    "# To avoid overfitting\n",
    "from keras.layers import Dropout\n",
    "import keras\n",
    "from keras.models import Sequential\n",
    "from keras.layers import Dense"
   ]
  },
  {
   "cell_type": "code",
   "execution_count": 47,
   "metadata": {
    "scrolled": true
   },
   "outputs": [
    {
     "name": "stderr",
     "output_type": "stream",
     "text": [
      "C:\\Users\\u0125384\\Anaconda3\\lib\\site-packages\\ipykernel_launcher.py:9: UserWarning: Update your `Dropout` call to the Keras 2 API: `Dropout(rate=0.1)`\n",
      "  if __name__ == '__main__':\n",
      "C:\\Users\\u0125384\\Anaconda3\\lib\\site-packages\\ipykernel_launcher.py:12: UserWarning: Update your `Dropout` call to the Keras 2 API: `Dropout(rate=0.1)`\n",
      "  if sys.path[0] == '':\n"
     ]
    },
    {
     "name": "stdout",
     "output_type": "stream",
     "text": [
      "Epoch 1/100\n",
      "8000/8000 [==============================] - 2s 215us/step - loss: 0.4855 - accuracy: 0.7960\n",
      "Epoch 2/100\n",
      "8000/8000 [==============================] - 1s 174us/step - loss: 0.4312 - accuracy: 0.7960\n",
      "Epoch 3/100\n",
      "8000/8000 [==============================] - 2s 198us/step - loss: 0.4291 - accuracy: 0.7960\n",
      "Epoch 4/100\n",
      "8000/8000 [==============================] - 2s 190us/step - loss: 0.4253 - accuracy: 0.8052\n",
      "Epoch 5/100\n",
      "8000/8000 [==============================] - 2s 188us/step - loss: 0.4217 - accuracy: 0.8231\n",
      "Epoch 6/100\n",
      "8000/8000 [==============================] - 1s 166us/step - loss: 0.4269 - accuracy: 0.8255\n",
      "Epoch 7/100\n",
      "8000/8000 [==============================] - 1s 153us/step - loss: 0.4225 - accuracy: 0.8286\n",
      "Epoch 8/100\n",
      "8000/8000 [==============================] - 1s 141us/step - loss: 0.4254 - accuracy: 0.8278\n",
      "Epoch 9/100\n",
      "8000/8000 [==============================] - 1s 180us/step - loss: 0.4258 - accuracy: 0.8295\n",
      "Epoch 10/100\n",
      "8000/8000 [==============================] - 1s 184us/step - loss: 0.4232 - accuracy: 0.8300\n",
      "Epoch 11/100\n",
      "8000/8000 [==============================] - 1s 172us/step - loss: 0.4232 - accuracy: 0.8279\n",
      "Epoch 12/100\n",
      "8000/8000 [==============================] - 2s 190us/step - loss: 0.4268 - accuracy: 0.8295\n",
      "Epoch 13/100\n",
      "8000/8000 [==============================] - 2s 195us/step - loss: 0.4269 - accuracy: 0.8300\n",
      "Epoch 14/100\n",
      "8000/8000 [==============================] - 1s 155us/step - loss: 0.4227 - accuracy: 0.8314\n",
      "Epoch 15/100\n",
      "8000/8000 [==============================] - 1s 147us/step - loss: 0.4244 - accuracy: 0.8280\n",
      "Epoch 16/100\n",
      "8000/8000 [==============================] - 2s 198us/step - loss: 0.4254 - accuracy: 0.8290\n",
      "Epoch 17/100\n",
      "8000/8000 [==============================] - 1s 150us/step - loss: 0.4239 - accuracy: 0.8326\n",
      "Epoch 18/100\n",
      "8000/8000 [==============================] - 1s 157us/step - loss: 0.4205 - accuracy: 0.8325\n",
      "Epoch 19/100\n",
      "8000/8000 [==============================] - 1s 135us/step - loss: 0.4226 - accuracy: 0.8320\n",
      "Epoch 20/100\n",
      "8000/8000 [==============================] - 1s 145us/step - loss: 0.4242 - accuracy: 0.8310\n",
      "Epoch 21/100\n",
      "8000/8000 [==============================] - 1s 151us/step - loss: 0.4196 - accuracy: 0.8328\n",
      "Epoch 22/100\n",
      "8000/8000 [==============================] - 1s 153us/step - loss: 0.4216 - accuracy: 0.8322\n",
      "Epoch 23/100\n",
      "8000/8000 [==============================] - 2s 204us/step - loss: 0.4219 - accuracy: 0.8320\n",
      "Epoch 24/100\n",
      "8000/8000 [==============================] - 2s 205us/step - loss: 0.4224 - accuracy: 0.8307\n",
      "Epoch 25/100\n",
      "8000/8000 [==============================] - 2s 195us/step - loss: 0.4235 - accuracy: 0.8301\n",
      "Epoch 26/100\n",
      "8000/8000 [==============================] - 1s 174us/step - loss: 0.4248 - accuracy: 0.8294\n",
      "Epoch 27/100\n",
      "8000/8000 [==============================] - 1s 161us/step - loss: 0.4232 - accuracy: 0.8328\n",
      "Epoch 28/100\n",
      "8000/8000 [==============================] - 1s 187us/step - loss: 0.4220 - accuracy: 0.8309\n",
      "Epoch 29/100\n",
      "8000/8000 [==============================] - 1s 154us/step - loss: 0.4216 - accuracy: 0.8345\n",
      "Epoch 30/100\n",
      "8000/8000 [==============================] - 1s 150us/step - loss: 0.4189 - accuracy: 0.8322\n",
      "Epoch 31/100\n",
      "8000/8000 [==============================] - 1s 163us/step - loss: 0.4213 - accuracy: 0.8328\n",
      "Epoch 32/100\n",
      "8000/8000 [==============================] - 1s 148us/step - loss: 0.4215 - accuracy: 0.8328\n",
      "Epoch 33/100\n",
      "8000/8000 [==============================] - 1s 171us/step - loss: 0.4211 - accuracy: 0.8303\n",
      "Epoch 34/100\n",
      "8000/8000 [==============================] - 2s 189us/step - loss: 0.4227 - accuracy: 0.8316\n",
      "Epoch 35/100\n",
      "8000/8000 [==============================] - 2s 194us/step - loss: 0.4206 - accuracy: 0.8344\n",
      "Epoch 36/100\n",
      "8000/8000 [==============================] - 1s 183us/step - loss: 0.4211 - accuracy: 0.8307\n",
      "Epoch 37/100\n",
      "8000/8000 [==============================] - 1s 176us/step - loss: 0.4215 - accuracy: 0.8310\n",
      "Epoch 38/100\n",
      "8000/8000 [==============================] - 1s 183us/step - loss: 0.4211 - accuracy: 0.8322\n",
      "Epoch 39/100\n",
      "8000/8000 [==============================] - 1s 187us/step - loss: 0.4223 - accuracy: 0.8332\n",
      "Epoch 40/100\n",
      "8000/8000 [==============================] - 1s 185us/step - loss: 0.4193 - accuracy: 0.8307\n",
      "Epoch 41/100\n",
      "8000/8000 [==============================] - 1s 186us/step - loss: 0.4223 - accuracy: 0.8341\n",
      "Epoch 42/100\n",
      "8000/8000 [==============================] - 1s 175us/step - loss: 0.4198 - accuracy: 0.8310\n",
      "Epoch 43/100\n",
      "8000/8000 [==============================] - 1s 172us/step - loss: 0.4228 - accuracy: 0.8330\n",
      "Epoch 44/100\n",
      "8000/8000 [==============================] - 1s 184us/step - loss: 0.4210 - accuracy: 0.8326\n",
      "Epoch 45/100\n",
      "8000/8000 [==============================] - 1s 153us/step - loss: 0.4207 - accuracy: 0.8324\n",
      "Epoch 46/100\n",
      "8000/8000 [==============================] - 1s 144us/step - loss: 0.4200 - accuracy: 0.8307\n",
      "Epoch 47/100\n",
      "8000/8000 [==============================] - 1s 173us/step - loss: 0.4199 - accuracy: 0.8334\n",
      "Epoch 48/100\n",
      "8000/8000 [==============================] - 1s 157us/step - loss: 0.4203 - accuracy: 0.8326\n",
      "Epoch 49/100\n",
      "8000/8000 [==============================] - 1s 150us/step - loss: 0.4203 - accuracy: 0.8306\n",
      "Epoch 50/100\n",
      "8000/8000 [==============================] - 1s 155us/step - loss: 0.4228 - accuracy: 0.8314\n",
      "Epoch 51/100\n",
      "8000/8000 [==============================] - 1s 157us/step - loss: 0.4227 - accuracy: 0.8320\n",
      "Epoch 52/100\n",
      "8000/8000 [==============================] - 1s 155us/step - loss: 0.4188 - accuracy: 0.8320\n",
      "Epoch 53/100\n",
      "8000/8000 [==============================] - 1s 149us/step - loss: 0.4201 - accuracy: 0.8298\n",
      "Epoch 54/100\n",
      "8000/8000 [==============================] - 1s 150us/step - loss: 0.4195 - accuracy: 0.8332\n",
      "Epoch 55/100\n",
      "8000/8000 [==============================] - 1s 150us/step - loss: 0.4192 - accuracy: 0.8300\n",
      "Epoch 56/100\n",
      "8000/8000 [==============================] - 1s 159us/step - loss: 0.4206 - accuracy: 0.8331\n",
      "Epoch 57/100\n",
      "8000/8000 [==============================] - 1s 152us/step - loss: 0.4208 - accuracy: 0.8342\n",
      "Epoch 58/100\n",
      "8000/8000 [==============================] - 1s 185us/step - loss: 0.4199 - accuracy: 0.8307\n",
      "Epoch 59/100\n",
      "8000/8000 [==============================] - 2s 188us/step - loss: 0.4191 - accuracy: 0.8346\n",
      "Epoch 60/100\n",
      "8000/8000 [==============================] - 2s 192us/step - loss: 0.4221 - accuracy: 0.8322\n",
      "Epoch 61/100\n",
      "8000/8000 [==============================] - 2s 194us/step - loss: 0.4201 - accuracy: 0.8320\n",
      "Epoch 62/100\n",
      "8000/8000 [==============================] - 2s 192us/step - loss: 0.4199 - accuracy: 0.8334\n",
      "Epoch 63/100\n",
      "8000/8000 [==============================] - 2s 195us/step - loss: 0.4187 - accuracy: 0.8313\n",
      "Epoch 64/100\n",
      "8000/8000 [==============================] - 2s 189us/step - loss: 0.4220 - accuracy: 0.8334\n",
      "Epoch 65/100\n",
      "8000/8000 [==============================] - 2s 201us/step - loss: 0.4182 - accuracy: 0.8328\n",
      "Epoch 66/100\n",
      "8000/8000 [==============================] - 2s 207us/step - loss: 0.4196 - accuracy: 0.8336\n",
      "Epoch 67/100\n",
      "8000/8000 [==============================] - 1s 168us/step - loss: 0.4188 - accuracy: 0.8321\n",
      "Epoch 68/100\n",
      "8000/8000 [==============================] - 1s 135us/step - loss: 0.4206 - accuracy: 0.8328\n",
      "Epoch 69/100\n",
      "8000/8000 [==============================] - 1s 162us/step - loss: 0.4205 - accuracy: 0.8313\n",
      "Epoch 70/100\n",
      "8000/8000 [==============================] - 1s 161us/step - loss: 0.4214 - accuracy: 0.8330\n",
      "Epoch 71/100\n",
      "8000/8000 [==============================] - 1s 143us/step - loss: 0.4205 - accuracy: 0.8319\n",
      "Epoch 72/100\n",
      "8000/8000 [==============================] - 1s 181us/step - loss: 0.4209 - accuracy: 0.8330\n",
      "Epoch 73/100\n",
      "8000/8000 [==============================] - 1s 182us/step - loss: 0.4197 - accuracy: 0.8328\n",
      "Epoch 74/100\n",
      "8000/8000 [==============================] - 2s 190us/step - loss: 0.4208 - accuracy: 0.8319\n",
      "Epoch 75/100\n",
      "8000/8000 [==============================] - 1s 187us/step - loss: 0.4203 - accuracy: 0.8331\n",
      "Epoch 76/100\n",
      "8000/8000 [==============================] - 1s 162us/step - loss: 0.4225 - accuracy: 0.8342\n",
      "Epoch 77/100\n",
      "8000/8000 [==============================] - 1s 140us/step - loss: 0.4200 - accuracy: 0.8326\n",
      "Epoch 78/100\n"
     ]
    },
    {
     "name": "stdout",
     "output_type": "stream",
     "text": [
      "8000/8000 [==============================] - 1s 150us/step - loss: 0.4209 - accuracy: 0.8331\n",
      "Epoch 79/100\n",
      "8000/8000 [==============================] - 1s 173us/step - loss: 0.4208 - accuracy: 0.8338\n",
      "Epoch 80/100\n",
      "8000/8000 [==============================] - 2s 203us/step - loss: 0.4176 - accuracy: 0.8335\n",
      "Epoch 81/100\n",
      "8000/8000 [==============================] - 2s 199us/step - loss: 0.4174 - accuracy: 0.8317\n",
      "Epoch 82/100\n",
      "8000/8000 [==============================] - 2s 216us/step - loss: 0.4193 - accuracy: 0.8350\n",
      "Epoch 83/100\n",
      "8000/8000 [==============================] - 2s 202us/step - loss: 0.4196 - accuracy: 0.8324\n",
      "Epoch 84/100\n",
      "8000/8000 [==============================] - 2s 218us/step - loss: 0.4173 - accuracy: 0.8334\n",
      "Epoch 85/100\n",
      "8000/8000 [==============================] - 2s 225us/step - loss: 0.4208 - accuracy: 0.8334\n",
      "Epoch 86/100\n",
      "8000/8000 [==============================] - 2s 213us/step - loss: 0.4203 - accuracy: 0.8347\n",
      "Epoch 87/100\n",
      "8000/8000 [==============================] - 2s 212us/step - loss: 0.4165 - accuracy: 0.8334\n",
      "Epoch 88/100\n",
      "8000/8000 [==============================] - 2s 201us/step - loss: 0.4195 - accuracy: 0.8328\n",
      "Epoch 89/100\n",
      "8000/8000 [==============================] - 2s 191us/step - loss: 0.4170 - accuracy: 0.8310\n",
      "Epoch 90/100\n",
      "8000/8000 [==============================] - 1s 154us/step - loss: 0.4131 - accuracy: 0.8345\n",
      "Epoch 91/100\n",
      "8000/8000 [==============================] - 1s 155us/step - loss: 0.4179 - accuracy: 0.8342\n",
      "Epoch 92/100\n",
      "8000/8000 [==============================] - 1s 150us/step - loss: 0.4179 - accuracy: 0.8332\n",
      "Epoch 93/100\n",
      "8000/8000 [==============================] - 1s 146us/step - loss: 0.4208 - accuracy: 0.8307\n",
      "Epoch 94/100\n",
      "8000/8000 [==============================] - 2s 203us/step - loss: 0.4193 - accuracy: 0.8365\n",
      "Epoch 95/100\n",
      "8000/8000 [==============================] - 1s 147us/step - loss: 0.4197 - accuracy: 0.8330\n",
      "Epoch 96/100\n",
      "8000/8000 [==============================] - 1s 166us/step - loss: 0.4183 - accuracy: 0.8316\n",
      "Epoch 97/100\n",
      "8000/8000 [==============================] - 1s 165us/step - loss: 0.4214 - accuracy: 0.8331\n",
      "Epoch 98/100\n",
      "8000/8000 [==============================] - 1s 177us/step - loss: 0.4144 - accuracy: 0.8332\n",
      "Epoch 99/100\n",
      "8000/8000 [==============================] - 1s 150us/step - loss: 0.4161 - accuracy: 0.8331\n",
      "Epoch 100/100\n",
      "8000/8000 [==============================] - 2s 192us/step - loss: 0.4204 - accuracy: 0.8334\n"
     ]
    },
    {
     "data": {
      "text/plain": [
       "<keras.callbacks.callbacks.History at 0x1d9e52f37c8>"
      ]
     },
     "execution_count": 47,
     "metadata": {},
     "output_type": "execute_result"
    }
   ],
   "source": [
    "# Initialising ANN\n",
    "classifier = Sequential()\n",
    "\n",
    "#Adding the input and the first hidden layer\n",
    "# if you have no idea of units: (total input + total out put)/2t, here (11 + 1)/2\n",
    "classifier.add(Dense(units = 6, kernel_initializer = 'uniform', activation = 'relu', input_dim = 11))\n",
    "# if you have overfitting try 10% dropout if it does not work then increase it but not higher than 50 % as ut may\n",
    "# cause underfitting.\n",
    "classifier.add(Dropout(p = 0.1))\n",
    "# Adding the 2nd hidden layer\n",
    "classifier.add(Dense(units = 6, kernel_initializer = 'uniform', activation = 'relu'))\n",
    "classifier.add(Dropout(p = 0.1))\n",
    "\n",
    "# Adding the output layer\n",
    "classifier.add(Dense(units = 1, kernel_initializer = 'uniform', activation = 'sigmoid'))\n",
    "\n",
    "\n",
    "# Compiling ANN\n",
    "classifier.compile(optimizer = 'adam', loss = 'binary_crossentropy', metrics = ['accuracy'])\n",
    "\n",
    "# Fitting ANN to training dataset\n",
    "classifier.fit(x_train_sc, y_train, batch_size = 10, epochs = 100)"
   ]
  },
  {
   "cell_type": "markdown",
   "metadata": {},
   "source": [
    "# Parameter Tuning"
   ]
  },
  {
   "cell_type": "code",
   "execution_count": 48,
   "metadata": {},
   "outputs": [],
   "source": [
    "import keras\n",
    "from keras.models import Sequential\n",
    "from keras.layers import Dense\n",
    "from keras.wrappers.scikit_learn import KerasClassifier\n",
    "from sklearn.model_selection import GridSearchCV"
   ]
  },
  {
   "cell_type": "code",
   "execution_count": 62,
   "metadata": {},
   "outputs": [],
   "source": [
    "def build_classifier():\n",
    "    classifier = Sequential()\n",
    "#Adding the input and the first hidden layer\n",
    "# if you have no idea of units: (total input + total out put)/2t, here (11 + 1)/2\n",
    "    classifier.add(Dense(units = 6, kernel_initializer = 'uniform', activation = 'relu', input_dim = 11))\n",
    "# Adding the 2nd hidden layer\n",
    "    classifier.add(Dense(units = 6, kernel_initializer = 'uniform', activation = 'relu'))\n",
    "# Adding the output layer\n",
    "    classifier.add(Dense(units = 1, kernel_initializer = 'uniform', activation = 'sigmoid'))\n",
    "# Compiling ANN\n",
    "    classifier.compile(optimizer = 'adam', loss = 'binary_crossentropy', metrics = ['accuracy'])\n",
    "    return classifier\n",
    "\n",
    "parameters = {'batch_size': [25, 32], 'epochs': [100, 500]}\n"
   ]
  },
  {
   "cell_type": "code",
   "execution_count": 63,
   "metadata": {},
   "outputs": [],
   "source": [
    "classifier = KerasClassifier(build_fn = build_classifier())\n",
    "grid_search = GridSearchCV(estimator = classifier, param_grid = parameters, scoring = 'accuracy', \n",
    "                          cv = 10)"
   ]
  },
  {
   "cell_type": "code",
   "execution_count": 64,
   "metadata": {},
   "outputs": [
    {
     "name": "stderr",
     "output_type": "stream",
     "text": [
      "C:\\Users\\u0125384\\Anaconda3\\lib\\site-packages\\sklearn\\model_selection\\_validation.py:536: FitFailedWarning: Estimator fit failed. The score on this train-test partition for these parameters will be set to nan. Details: \n",
      "TypeError: __call__() missing 1 required positional argument: 'inputs'\n",
      "\n",
      "  FitFailedWarning)\n"
     ]
    },
    {
     "ename": "TypeError",
     "evalue": "__call__() missing 1 required positional argument: 'inputs'",
     "output_type": "error",
     "traceback": [
      "\u001b[1;31m---------------------------------------------------------------------------\u001b[0m",
      "\u001b[1;31mTypeError\u001b[0m                                 Traceback (most recent call last)",
      "\u001b[1;32m<ipython-input-64-dbfc6a59562e>\u001b[0m in \u001b[0;36m<module>\u001b[1;34m\u001b[0m\n\u001b[1;32m----> 1\u001b[1;33m \u001b[0mgrid_search\u001b[0m \u001b[1;33m=\u001b[0m \u001b[0mgrid_search\u001b[0m\u001b[1;33m.\u001b[0m\u001b[0mfit\u001b[0m\u001b[1;33m(\u001b[0m\u001b[0mx_train_sc\u001b[0m\u001b[1;33m,\u001b[0m \u001b[0my_train\u001b[0m\u001b[1;33m)\u001b[0m\u001b[1;33m\u001b[0m\u001b[1;33m\u001b[0m\u001b[0m\n\u001b[0m",
      "\u001b[1;32m~\\Anaconda3\\lib\\site-packages\\sklearn\\model_selection\\_search.py\u001b[0m in \u001b[0;36mfit\u001b[1;34m(self, X, y, groups, **fit_params)\u001b[0m\n\u001b[0;32m    737\u001b[0m             \u001b[0mrefit_start_time\u001b[0m \u001b[1;33m=\u001b[0m \u001b[0mtime\u001b[0m\u001b[1;33m.\u001b[0m\u001b[0mtime\u001b[0m\u001b[1;33m(\u001b[0m\u001b[1;33m)\u001b[0m\u001b[1;33m\u001b[0m\u001b[1;33m\u001b[0m\u001b[0m\n\u001b[0;32m    738\u001b[0m             \u001b[1;32mif\u001b[0m \u001b[0my\u001b[0m \u001b[1;32mis\u001b[0m \u001b[1;32mnot\u001b[0m \u001b[1;32mNone\u001b[0m\u001b[1;33m:\u001b[0m\u001b[1;33m\u001b[0m\u001b[1;33m\u001b[0m\u001b[0m\n\u001b[1;32m--> 739\u001b[1;33m                 \u001b[0mself\u001b[0m\u001b[1;33m.\u001b[0m\u001b[0mbest_estimator_\u001b[0m\u001b[1;33m.\u001b[0m\u001b[0mfit\u001b[0m\u001b[1;33m(\u001b[0m\u001b[0mX\u001b[0m\u001b[1;33m,\u001b[0m \u001b[0my\u001b[0m\u001b[1;33m,\u001b[0m \u001b[1;33m**\u001b[0m\u001b[0mfit_params\u001b[0m\u001b[1;33m)\u001b[0m\u001b[1;33m\u001b[0m\u001b[1;33m\u001b[0m\u001b[0m\n\u001b[0m\u001b[0;32m    740\u001b[0m             \u001b[1;32melse\u001b[0m\u001b[1;33m:\u001b[0m\u001b[1;33m\u001b[0m\u001b[1;33m\u001b[0m\u001b[0m\n\u001b[0;32m    741\u001b[0m                 \u001b[0mself\u001b[0m\u001b[1;33m.\u001b[0m\u001b[0mbest_estimator_\u001b[0m\u001b[1;33m.\u001b[0m\u001b[0mfit\u001b[0m\u001b[1;33m(\u001b[0m\u001b[0mX\u001b[0m\u001b[1;33m,\u001b[0m \u001b[1;33m**\u001b[0m\u001b[0mfit_params\u001b[0m\u001b[1;33m)\u001b[0m\u001b[1;33m\u001b[0m\u001b[1;33m\u001b[0m\u001b[0m\n",
      "\u001b[1;32m~\\Anaconda3\\lib\\site-packages\\keras\\wrappers\\scikit_learn.py\u001b[0m in \u001b[0;36mfit\u001b[1;34m(self, x, y, sample_weight, **kwargs)\u001b[0m\n\u001b[0;32m    207\u001b[0m         \u001b[1;32mif\u001b[0m \u001b[0msample_weight\u001b[0m \u001b[1;32mis\u001b[0m \u001b[1;32mnot\u001b[0m \u001b[1;32mNone\u001b[0m\u001b[1;33m:\u001b[0m\u001b[1;33m\u001b[0m\u001b[1;33m\u001b[0m\u001b[0m\n\u001b[0;32m    208\u001b[0m             \u001b[0mkwargs\u001b[0m\u001b[1;33m[\u001b[0m\u001b[1;34m'sample_weight'\u001b[0m\u001b[1;33m]\u001b[0m \u001b[1;33m=\u001b[0m \u001b[0msample_weight\u001b[0m\u001b[1;33m\u001b[0m\u001b[1;33m\u001b[0m\u001b[0m\n\u001b[1;32m--> 209\u001b[1;33m         \u001b[1;32mreturn\u001b[0m \u001b[0msuper\u001b[0m\u001b[1;33m(\u001b[0m\u001b[0mKerasClassifier\u001b[0m\u001b[1;33m,\u001b[0m \u001b[0mself\u001b[0m\u001b[1;33m)\u001b[0m\u001b[1;33m.\u001b[0m\u001b[0mfit\u001b[0m\u001b[1;33m(\u001b[0m\u001b[0mx\u001b[0m\u001b[1;33m,\u001b[0m \u001b[0my\u001b[0m\u001b[1;33m,\u001b[0m \u001b[1;33m**\u001b[0m\u001b[0mkwargs\u001b[0m\u001b[1;33m)\u001b[0m\u001b[1;33m\u001b[0m\u001b[1;33m\u001b[0m\u001b[0m\n\u001b[0m\u001b[0;32m    210\u001b[0m \u001b[1;33m\u001b[0m\u001b[0m\n\u001b[0;32m    211\u001b[0m     \u001b[1;32mdef\u001b[0m \u001b[0mpredict\u001b[0m\u001b[1;33m(\u001b[0m\u001b[0mself\u001b[0m\u001b[1;33m,\u001b[0m \u001b[0mx\u001b[0m\u001b[1;33m,\u001b[0m \u001b[1;33m**\u001b[0m\u001b[0mkwargs\u001b[0m\u001b[1;33m)\u001b[0m\u001b[1;33m:\u001b[0m\u001b[1;33m\u001b[0m\u001b[1;33m\u001b[0m\u001b[0m\n",
      "\u001b[1;32m~\\Anaconda3\\lib\\site-packages\\keras\\wrappers\\scikit_learn.py\u001b[0m in \u001b[0;36mfit\u001b[1;34m(self, x, y, **kwargs)\u001b[0m\n\u001b[0;32m    138\u001b[0m               not isinstance(self.build_fn, types.MethodType)):\n\u001b[0;32m    139\u001b[0m             self.model = self.build_fn(\n\u001b[1;32m--> 140\u001b[1;33m                 **self.filter_sk_params(self.build_fn.__call__))\n\u001b[0m\u001b[0;32m    141\u001b[0m         \u001b[1;32melse\u001b[0m\u001b[1;33m:\u001b[0m\u001b[1;33m\u001b[0m\u001b[1;33m\u001b[0m\u001b[0m\n\u001b[0;32m    142\u001b[0m             \u001b[0mself\u001b[0m\u001b[1;33m.\u001b[0m\u001b[0mmodel\u001b[0m \u001b[1;33m=\u001b[0m \u001b[0mself\u001b[0m\u001b[1;33m.\u001b[0m\u001b[0mbuild_fn\u001b[0m\u001b[1;33m(\u001b[0m\u001b[1;33m**\u001b[0m\u001b[0mself\u001b[0m\u001b[1;33m.\u001b[0m\u001b[0mfilter_sk_params\u001b[0m\u001b[1;33m(\u001b[0m\u001b[0mself\u001b[0m\u001b[1;33m.\u001b[0m\u001b[0mbuild_fn\u001b[0m\u001b[1;33m)\u001b[0m\u001b[1;33m)\u001b[0m\u001b[1;33m\u001b[0m\u001b[1;33m\u001b[0m\u001b[0m\n",
      "\u001b[1;31mTypeError\u001b[0m: __call__() missing 1 required positional argument: 'inputs'"
     ]
    }
   ],
   "source": [
    "grid_search = grid_search.fit(x_train_sc, y_train)"
   ]
  },
  {
   "cell_type": "code",
   "execution_count": null,
   "metadata": {},
   "outputs": [],
   "source": [
    "grid_search.best_params_\n",
    "grid_search.best"
   ]
  }
 ],
 "metadata": {
  "kernelspec": {
   "display_name": "Python 3",
   "language": "python",
   "name": "python3"
  },
  "language_info": {
   "codemirror_mode": {
    "name": "ipython",
    "version": 3
   },
   "file_extension": ".py",
   "mimetype": "text/x-python",
   "name": "python",
   "nbconvert_exporter": "python",
   "pygments_lexer": "ipython3",
   "version": "3.7.6"
  }
 },
 "nbformat": 4,
 "nbformat_minor": 4
}
